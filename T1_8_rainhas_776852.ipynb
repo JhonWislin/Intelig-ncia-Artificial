{
  "nbformat": 4,
  "nbformat_minor": 0,
  "metadata": {
    "colab": {
      "provenance": []
    },
    "kernelspec": {
      "name": "python3",
      "display_name": "Python 3"
    },
    "language_info": {
      "name": "python"
    }
  },
  "cells": [
    {
      "cell_type": "markdown",
      "source": [
        "##**Trabalho 1 - Problema das 8 Rainhas**\n",
        "\n",
        "**Nome: Jhon Wislin Ribeiro Citron**\n",
        "\n",
        "**RA: 776852**"
      ],
      "metadata": {
        "id": "yIjA6hFkWWkP"
      }
    },
    {
      "cell_type": "markdown",
      "source": [
        "##**Problema:**\n",
        "\n",
        "  Encontrar alguma configuração onde nenhuma das 8 rainhas no tabuleiro se ataque direta ou indiretamente."
      ],
      "metadata": {
        "id": "-CmfnAdZZE4J"
      }
    },
    {
      "cell_type": "markdown",
      "source": [
        "##**Objetivo**: \n",
        "\n",
        "  Desenvolver um algoritmo em python de forma que encontre uma solução para o problema das 8 rainhas. Para isso, será utilizado um algorítimo genético onde, será criada uma população inicial de 100 indivíduos ao qual os 8 melhores indivíduos serão selecionados para serem cruzados e receberem a mutação. Esse processo vai ocorrer por 2000 gerações ou até que encontre alguma solução.\n",
        "\n",
        "\n",
        "\n",
        "\n",
        "\n",
        "\n",
        "\n",
        "\n"
      ],
      "metadata": {
        "id": "AL25CVK-XBlo"
      }
    },
    {
      "cell_type": "markdown",
      "source": [
        "##**Definições:**\n",
        "\n",
        "*   Número de Indivíduos da população inicial: 100;\n",
        "*   Número de gerações: 2000;\n",
        "*   Heurística utilizada: Número de pares de rainhas se atacando;\n",
        "*   Taxa de mutação: 50%.\n",
        "*   Representação do problema: [1,1,8,7,4,3,2,6] - Configuração qualquer da matriz, onde cada posição do vetor simboliza a posição na coluna. V[i] com i sendo a coluna e o valor correspondente seja a posição na coluna i.\n",
        "\n",
        "\n",
        "\n",
        "\n",
        "\n",
        "\n"
      ],
      "metadata": {
        "id": "MHFt2tGnZbBJ"
      }
    },
    {
      "cell_type": "code",
      "execution_count": null,
      "metadata": {
        "id": "nZ1WfMm6WK20"
      },
      "outputs": [],
      "source": [
        "import numpy as np\n",
        "import random"
      ]
    },
    {
      "cell_type": "markdown",
      "source": [
        "A variavel Num_Ind = 100, define que inicialmente a população vai começar com 100 indivíduos e Num_Gera = 2000 vai definir que vão ser geradas 2000 gerações de indivíduos."
      ],
      "metadata": {
        "id": "dKS6q-1xohm2"
      }
    },
    {
      "cell_type": "code",
      "source": [
        "Num_Ind = 100 #Número de indivíduos da população\n",
        "Num_Gera = 2000 #Número de gerações"
      ],
      "metadata": {
        "id": "KfX9uimlaq3x"
      },
      "execution_count": null,
      "outputs": []
    },
    {
      "cell_type": "markdown",
      "source": [
        "Popul_In vai receber uma matriz de vetores de tamanho 8 onde, os valores de cada posição do vetor vão ser randomizadas no intervalo de 1 a 8. A ideia é que, cada configuração seja basicamente um vetor de 8 posições e os valores para cada posição do vetor vão ser a posição da rainha na coluna."
      ],
      "metadata": {
        "id": "QJ_ahR6Uo_FE"
      }
    },
    {
      "cell_type": "code",
      "source": [
        "Popul_In = np.random.randint(1, 8, size=(Num_Ind, 8))#Cria a população inicial"
      ],
      "metadata": {
        "id": "Qc55pLXHaqnf"
      },
      "execution_count": null,
      "outputs": []
    },
    {
      "cell_type": "markdown",
      "source": [
        "#**Fitness**:\n",
        "\n",
        "A função de fitness vai definir o quão bom o indivíduo gerado é, sendo avaliado pelo número de pares de rainhas que estejam se atacando direta ou indiretamente. A função vai receber um indivíduo ou cromossomo que compõe a população e vai retornar o fitness correspondente. "
      ],
      "metadata": {
        "id": "V4Xq9KfsqqjN"
      }
    },
    {
      "cell_type": "code",
      "source": [
        "#Função de fitness, que recebe como parâmetro o indivíduo a ser avaliado\n",
        "def fitness(Ind):\n",
        "    fitness = 0\n",
        "    for i in range(8):\n",
        "        for j in range(i+1, 8):\n",
        "            if Ind[i] == Ind[j]:  #Compara se existem rainhas na mesma linha se atacando\n",
        "                fitness += 1\n",
        "            if Ind[i] == Ind[j] + (j-i): #Compara se existem rainhas se atacando na diagonal inferior\n",
        "                fitness += 1\n",
        "            if Ind[i] == Ind[j] - (j-i): #Compara se existem rainhas se atacando na diagonal superior\n",
        "                fitness += 1\n",
        "    return fitness"
      ],
      "metadata": {
        "id": "9HwwwE3KaqWQ"
      },
      "execution_count": null,
      "outputs": []
    },
    {
      "cell_type": "markdown",
      "source": [
        "#**Seleção**\n",
        "\n",
        "A função de seleção tem como objetivo determinar os 8 indivíduos mais aptos na população através da comparação entre os fitness dos índivíduos. O método de seleção abordado neste caso foi o torneio onde, ele vai pegar pares aleatórios de indivíduos e vai comparar seus fitness, o mais apto entra para os selecionados e a função vai retor os 8 melhores índivíduos. Quanto menor for o valor do fitness, mais apto é o indivíduo."
      ],
      "metadata": {
        "id": "YfW4rWuLrmlV"
      }
    },
    {
      "cell_type": "code",
      "source": [
        "#Função que com base no fitness vai retornar os 8 melhores indivíduos com base no método do torneio\n",
        "def selecao(Popul_In):\n",
        "    Selec = np.zeros((8, 8), dtype=int)\n",
        "    for i in range(8):\n",
        "        ind_1 = random.randint(0, 7) #Randomiza 2 indivíduos para serem comparados\n",
        "        ind_2 = random.randint(0, 7)\n",
        "        if fitness(Popul_In[ind_1]) < fitness(Popul_In[ind_2]): #Compara o fitness dos dois indivíduos\n",
        "            Selec[i] = Popul_In[ind_1] #O mais apto(Menor valor) é passado para o array de selecionados\n",
        "        else:\n",
        "            Selec[i] = Popul_In[ind_2] \n",
        "    return Selec #Retorna os 8 melhores indivíduos da população (Aqueles com menor valor de fitness)"
      ],
      "metadata": {
        "id": "hZ_dQHYRa0oT"
      },
      "execution_count": null,
      "outputs": []
    },
    {
      "cell_type": "markdown",
      "source": [
        "#**Cruzamento:**\n",
        "\n",
        "  A função de cruzamento vai receber como parâmetro os 8 melhores indivíduos selecionados e vai estabelecer um ponto de corte aleatório recebido pela variavel corte. A partir do ponto de corte estabelecido, os genes dos dois indivíduos ou valores das posições após o corte vão ser trocados."
      ],
      "metadata": {
        "id": "k6qCq8rD_WLR"
      }
    },
    {
      "cell_type": "code",
      "source": [
        "#Função que vai realizar o cruzamento dos 8 melhores indivíduos\n",
        "def cruzamento(Selec):\n",
        "    for i in range(0, 8, 2):\n",
        "        corte = random.randint(1, 7) #Define de forma randômica o ponto de corte no intervalo de 1 a 7 \n",
        "        for j in range(corte, 8):\n",
        "            Selec[i][j], Selec[i+1][j] = Selec[i+1][j], Selec[i][j] #Faz a troca de genes(valores) entre dois indivíduos\n",
        "    return Selec #Retorna os filhos após o cruzamento"
      ],
      "metadata": {
        "id": "B0ZcDHnEa2tr"
      },
      "execution_count": null,
      "outputs": []
    },
    {
      "cell_type": "markdown",
      "source": [
        "#**Mutação:**\n",
        "\n",
        "A função de mutação vai receber como parâmetro os 8 melhores individuos da geração atual gerados após o cruzamento. Para esses 8 indivíduos, vai existir uma taxa de mutação definida em 50% (taxa = 0.5) onde, caso o individuo receba a mutação, o ponto de mutação vai ser definido aleatoriamente e o valor a ser mutado também vai ser definido de forma aleatória no intervalo de (1, 8)."
      ],
      "metadata": {
        "id": "PS8gV3NMIjmI"
      }
    },
    {
      "cell_type": "code",
      "source": [
        "#Função que faz a mutação conforme a taxa de um indivíduo receber a mutação\n",
        "def mutacao(Nova): #Recebe como entrada os 8 melhores indivíduos da geração\n",
        "    taxa = 0.5 #Taxa de 50%\n",
        "    for i in range(8):\n",
        "        if random.random() < taxa: #Se o valor randômico de 0 a 1 for menor que a taxa de mutação\n",
        "            ponto_mutacao = random.randint(0, 7) #Um genes aleatório do índivíduo é selecionado.\n",
        "            Nova[i][ponto_mutacao] = random.randint(1, 8) #O indivíduo (Nova[i][ponto_mutacao]) vai receber um valor aleatório de (1, 8)\n",
        "    return Nova #retorna os indivíduos após a mutação"
      ],
      "metadata": {
        "id": "FtxAft73a2en"
      },
      "execution_count": null,
      "outputs": []
    },
    {
      "cell_type": "markdown",
      "source": [
        "#**Melhor Indivíduo:**\n",
        "\n",
        "A função de melhor indivíduo vai sempre retornar após as gerações, o melhor indivíduo, sendo este aquele que possuir o melhor fitness(Menor número de rainhas se atacando). Ela recebe a geração resultante e analisa cada um dos índivíduos comparando seus fitness. "
      ],
      "metadata": {
        "id": "HmSnIfbmAxea"
      }
    },
    {
      "cell_type": "code",
      "source": [
        "#Função que retorna o melhor indivíduo da população\n",
        "def melhor_individuo(Popul_In): #Recebe a última geração gerada\n",
        "    melhor = Popul_In[0]\n",
        "    for i in range(1, 8):\n",
        "        if fitness(melhor) > fitness(Popul_In[i]): #Compara se o fitness de melhor é maior que o fitness da população da posição i\n",
        "            melhor = Popul_In[i] #Caso seja maior, melhor vai receber a Popul_In[i]\n",
        "    return melhor"
      ],
      "metadata": {
        "id": "Qt0hxKtzg1_P"
      },
      "execution_count": null,
      "outputs": []
    },
    {
      "cell_type": "markdown",
      "source": [
        "O for abaixo vai a partir da população inicial (Popul_In), selecionar os 8 melhores a partir da função selecao(Popul_In). A partir dos indivíduos selecionados pela função selecao(Popul_In), a função de cruzamento(Selec) vai cruzar os 8 melhores a partir de um ponto aleatório gerando uma nova população. E a partir da nova população a função de mutacao(Nova), vai aplicar a mutação nos indivíduos da nova população, tendo uma taxa de 50% para isso ocorrer. Após isso, se não foi encontrado uma solução, a populaçao inicial (Popul_In) vai receber a nova população e esse processo vai ocorrer por 2000 gerações ou até que encontre uma solução (fitness = 0)."
      ],
      "metadata": {
        "id": "Gk_H1nvqNJ_l"
      }
    },
    {
      "cell_type": "code",
      "source": [
        "for i in range(Num_Gera): #Gera Num_Gera = 2000\n",
        "  \n",
        "    #Seleciona os 8 melhores indivíduos entre os 100\n",
        "    Selec = selecao(Popul_In)\n",
        "\n",
        "    #Realiza o cruzamento dos 8 melhores indivíduos gerando uma nova população\n",
        "    Nova = cruzamento(Selec)\n",
        "\n",
        "    #Realiza a mutação dos 8 melhores indivíduos gerando uma nova população\n",
        "    Nova = mutacao(Nova)\n",
        "\n",
        "    if fitness(Nova[0]) == 0: #Verifica se foi encontrado alguma solução\n",
        "        break\n",
        "\n",
        "    #A nova população se torna a população inicial\n",
        "    Popul_In = Nova\n",
        "\n",
        "print(\"Melhor individuo: \", melhor_individuo(Popul_In)) #Retorna o melhor indivíduo após 2000 gerações\n",
        "print(\"Fitness: \", fitness(melhor_individuo(Popul_In))) #Fitness do melhor indivíduo"
      ],
      "metadata": {
        "colab": {
          "base_uri": "https://localhost:8080/"
        },
        "id": "THkZyxD5a2P_",
        "outputId": "132d01d4-92a5-4cfb-d2e8-fa042c02f487"
      },
      "execution_count": 11,
      "outputs": [
        {
          "output_type": "stream",
          "name": "stdout",
          "text": [
            "Melhor individuo:  [4 7 5 3 1 6 8 2]\n",
            "Fitness:  0\n"
          ]
        }
      ]
    }
  ]
}